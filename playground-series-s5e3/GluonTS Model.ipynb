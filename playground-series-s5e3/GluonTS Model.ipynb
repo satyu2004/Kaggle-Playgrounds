{
 "cells": [
  {
   "cell_type": "code",
   "execution_count": null,
   "metadata": {},
   "outputs": [
    {
     "name": "stderr",
     "output_type": "stream",
     "text": [
      "C:\\Users\\Sathya\\AppData\\Local\\Temp\\ipykernel_9688\\1868082562.py:30: FutureWarning: DataFrame.fillna with 'method' is deprecated and will raise in a future version. Use obj.ffill() or obj.bfill() instead.\n",
      "  data = data.fillna(method='ffill')\n"
     ]
    },
    {
     "ename": "TypeError",
     "evalue": "DeepARModel.__init__() got an unexpected keyword argument 'trainer_kwargs'",
     "output_type": "error",
     "traceback": [
      "\u001b[1;31m---------------------------------------------------------------------------\u001b[0m",
      "\u001b[1;31mTypeError\u001b[0m                                 Traceback (most recent call last)",
      "Cell \u001b[1;32mIn[10], line 48\u001b[0m\n\u001b[0;32m     45\u001b[0m test_data \u001b[38;5;241m=\u001b[39m PandasDataset(data[\u001b[38;5;241m-\u001b[39mk:], target\u001b[38;5;241m=\u001b[39m\u001b[38;5;124m\"\u001b[39m\u001b[38;5;124mrainfall\u001b[39m\u001b[38;5;124m\"\u001b[39m, freq\u001b[38;5;241m=\u001b[39m\u001b[38;5;124m'\u001b[39m\u001b[38;5;124mD\u001b[39m\u001b[38;5;124m'\u001b[39m)\n\u001b[0;32m     47\u001b[0m \u001b[38;5;66;03m# Define estimator with modern parameters\u001b[39;00m\n\u001b[1;32m---> 48\u001b[0m estimator \u001b[38;5;241m=\u001b[39m \u001b[43mProbDeepAR\u001b[49m\u001b[43m(\u001b[49m\n\u001b[0;32m     49\u001b[0m \u001b[43m    \u001b[49m\u001b[43mfreq\u001b[49m\u001b[38;5;241;43m=\u001b[39;49m\u001b[38;5;124;43m\"\u001b[39;49m\u001b[38;5;124;43mD\u001b[39;49m\u001b[38;5;124;43m\"\u001b[39;49m\u001b[43m,\u001b[49m\n\u001b[0;32m     50\u001b[0m \u001b[43m    \u001b[49m\u001b[43mprediction_length\u001b[49m\u001b[38;5;241;43m=\u001b[39;49m\u001b[38;5;241;43m1\u001b[39;49m\u001b[43m,\u001b[49m\n\u001b[0;32m     51\u001b[0m \u001b[43m    \u001b[49m\u001b[38;5;66;43;03m# model=ProbDeepAR,  # Use custom model with sigmoid activation\u001b[39;49;00m\n\u001b[0;32m     52\u001b[0m \u001b[43m    \u001b[49m\u001b[43mcontext_length\u001b[49m\u001b[38;5;241;43m=\u001b[39;49m\u001b[38;5;241;43m30\u001b[39;49m\u001b[43m,\u001b[49m\n\u001b[0;32m     53\u001b[0m \u001b[43m    \u001b[49m\u001b[43mdistr_output\u001b[49m\u001b[38;5;241;43m=\u001b[39;49m\u001b[43mStudentTOutput\u001b[49m\u001b[43m(\u001b[49m\u001b[43m)\u001b[49m\u001b[43m,\u001b[49m\n\u001b[0;32m     54\u001b[0m \u001b[43m    \u001b[49m\u001b[43mtrainer_kwargs\u001b[49m\u001b[38;5;241;43m=\u001b[39;49m\u001b[43m{\u001b[49m\n\u001b[0;32m     55\u001b[0m \u001b[43m        \u001b[49m\u001b[38;5;124;43m\"\u001b[39;49m\u001b[38;5;124;43mmax_epochs\u001b[39;49m\u001b[38;5;124;43m\"\u001b[39;49m\u001b[43m:\u001b[49m\u001b[43m \u001b[49m\u001b[38;5;241;43m50\u001b[39;49m\u001b[43m,\u001b[49m\n\u001b[0;32m     56\u001b[0m \u001b[43m        \u001b[49m\u001b[38;5;124;43m\"\u001b[39;49m\u001b[38;5;124;43menable_progress_bar\u001b[39;49m\u001b[38;5;124;43m\"\u001b[39;49m\u001b[43m:\u001b[49m\u001b[43m \u001b[49m\u001b[38;5;28;43;01mTrue\u001b[39;49;00m\u001b[43m,\u001b[49m\n\u001b[0;32m     57\u001b[0m \u001b[43m    \u001b[49m\u001b[43m}\u001b[49m\u001b[43m,\u001b[49m\n\u001b[0;32m     58\u001b[0m \u001b[43m    \u001b[49m\u001b[43mlr\u001b[49m\u001b[38;5;241;43m=\u001b[39;49m\u001b[38;5;241;43m1e-3\u001b[39;49m\u001b[43m,\u001b[49m\n\u001b[0;32m     59\u001b[0m \u001b[43m    \u001b[49m\u001b[43mnum_layers\u001b[49m\u001b[38;5;241;43m=\u001b[39;49m\u001b[38;5;241;43m2\u001b[39;49m\u001b[43m,\u001b[49m\n\u001b[0;32m     60\u001b[0m \u001b[43m    \u001b[49m\u001b[43mhidden_size\u001b[49m\u001b[38;5;241;43m=\u001b[39;49m\u001b[38;5;241;43m40\u001b[39;49m\u001b[43m,\u001b[49m\u001b[43m  \u001b[49m\u001b[38;5;66;43;03m# Changed from num_cells to hidden_size\u001b[39;49;00m\n\u001b[0;32m     61\u001b[0m \u001b[43m    \u001b[49m\u001b[43mdropout_rate\u001b[49m\u001b[38;5;241;43m=\u001b[39;49m\u001b[38;5;241;43m0.1\u001b[39;49m\u001b[43m,\u001b[49m\n\u001b[0;32m     62\u001b[0m \u001b[43m    \u001b[49m\u001b[43mscaling\u001b[49m\u001b[38;5;241;43m=\u001b[39;49m\u001b[38;5;28;43;01mTrue\u001b[39;49;00m\u001b[43m,\u001b[49m\n\u001b[0;32m     63\u001b[0m \u001b[43m)\u001b[49m\n\u001b[0;32m     65\u001b[0m \u001b[38;5;66;03m# Train the model\u001b[39;00m\n\u001b[0;32m     66\u001b[0m predictor \u001b[38;5;241m=\u001b[39m estimator\u001b[38;5;241m.\u001b[39mtrain(\n\u001b[0;32m     67\u001b[0m     training_data\u001b[38;5;241m=\u001b[39mtrain_data,\n\u001b[0;32m     68\u001b[0m     validation_data\u001b[38;5;241m=\u001b[39mtest_data,  \u001b[38;5;66;03m# Explicit validation\u001b[39;00m\n\u001b[0;32m     69\u001b[0m )\n",
      "Cell \u001b[1;32mIn[10], line 15\u001b[0m, in \u001b[0;36mProbDeepAR.__init__\u001b[1;34m(self, *args, **kwargs)\u001b[0m\n\u001b[0;32m     14\u001b[0m \u001b[38;5;28;01mdef\u001b[39;00m \u001b[38;5;21m__init__\u001b[39m(\u001b[38;5;28mself\u001b[39m, \u001b[38;5;241m*\u001b[39margs, \u001b[38;5;241m*\u001b[39m\u001b[38;5;241m*\u001b[39mkwargs):\n\u001b[1;32m---> 15\u001b[0m     \u001b[38;5;28;43msuper\u001b[39;49m\u001b[43m(\u001b[49m\u001b[43m)\u001b[49m\u001b[38;5;241;43m.\u001b[39;49m\u001b[38;5;21;43m__init__\u001b[39;49m\u001b[43m(\u001b[49m\u001b[38;5;241;43m*\u001b[39;49m\u001b[43margs\u001b[49m\u001b[43m,\u001b[49m\u001b[43m \u001b[49m\u001b[38;5;241;43m*\u001b[39;49m\u001b[38;5;241;43m*\u001b[39;49m\u001b[43mkwargs\u001b[49m\u001b[43m)\u001b[49m\n\u001b[0;32m     16\u001b[0m     \u001b[38;5;66;03m# Add sigmoid layer after base model's output\u001b[39;00m\n\u001b[0;32m     17\u001b[0m     \u001b[38;5;28mself\u001b[39m\u001b[38;5;241m.\u001b[39msigmoid \u001b[38;5;241m=\u001b[39m nn\u001b[38;5;241m.\u001b[39mSigmoid()\n",
      "File \u001b[1;32m~\\AppData\\Local\\Packages\\PythonSoftwareFoundation.Python.3.11_qbz5n2kfra8p0\\LocalCache\\local-packages\\Python311\\site-packages\\gluonts\\core\\component.py:368\u001b[0m, in \u001b[0;36mvalidated.<locals>.validator.<locals>.init_wrapper\u001b[1;34m(*args, **kwargs)\u001b[0m\n\u001b[0;32m    365\u001b[0m     \u001b[38;5;28mself\u001b[39m\u001b[38;5;241m.\u001b[39m\u001b[38;5;18m__class__\u001b[39m\u001b[38;5;241m.\u001b[39m__getnewargs_ex__ \u001b[38;5;241m=\u001b[39m validated_getnewargs_ex\n\u001b[0;32m    366\u001b[0m     \u001b[38;5;28mself\u001b[39m\u001b[38;5;241m.\u001b[39m\u001b[38;5;18m__class__\u001b[39m\u001b[38;5;241m.\u001b[39m\u001b[38;5;21m__repr__\u001b[39m \u001b[38;5;241m=\u001b[39m validated_repr\n\u001b[1;32m--> 368\u001b[0m \u001b[38;5;28;01mreturn\u001b[39;00m \u001b[43minit\u001b[49m\u001b[43m(\u001b[49m\u001b[38;5;28;43mself\u001b[39;49m\u001b[43m,\u001b[49m\u001b[43m \u001b[49m\u001b[38;5;241;43m*\u001b[39;49m\u001b[38;5;241;43m*\u001b[39;49m\u001b[43mall_args\u001b[49m\u001b[43m)\u001b[49m\n",
      "\u001b[1;31mTypeError\u001b[0m: DeepARModel.__init__() got an unexpected keyword argument 'trainer_kwargs'"
     ]
    }
   ],
   "source": [
    "# !pip install gluonts pytorch-lightning\n",
    "import pandas as pd\n",
    "from gluonts.dataset.pandas import PandasDataset\n",
    "from gluonts.torch import DeepAREstimator\n",
    "from gluonts.torch.model.deepar import DeepARModel\n",
    "from gluonts.torch.distributions import StudentTOutput\n",
    "from gluonts.evaluation import make_evaluation_predictions, Evaluator\n",
    "from sklearn.metrics import accuracy_score, precision_score, recall_score, f1_score\n",
    "import torch\n",
    "import numpy as np\n",
    "from pytorch_lightning.callbacks import EarlyStopping\n",
    "\n",
    "class ProbDeepAR(DeepARModel):\n",
    "    def __init__(self, *args, **kwargs):\n",
    "        super().__init__(*args, **kwargs)\n",
    "        # Add sigmoid layer after base model's output\n",
    "        self.sigmoid = nn.Sigmoid()\n",
    "    \n",
    "    def forward(self, *args, **kwargs):\n",
    "        # Get original outputs\n",
    "        outputs = super().forward(*args, **kwargs)\n",
    "        \n",
    "        # Apply sigmoid to mean (while preserving distribution)\n",
    "        outputs.predicted_mean = self.sigmoid(outputs.predicted_mean)\n",
    "        return outputs\n",
    "\n",
    "# Load and preprocess data\n",
    "data = pd.read_csv('train.csv')\n",
    "data = data.set_index('day')\n",
    "data = data.fillna(method='ffill')\n",
    "\n",
    "# Create GluonTS datasets\n",
    "k = 2 * 365  # Validation length\n",
    "data.index = pd.date_range(\n",
    "    start=\"2020-01-01\",  # Choose any start date\n",
    "    periods=len(data),\n",
    "    freq=\"D\"  # Daily frequency\n",
    ")\n",
    "train_data = PandasDataset(\n",
    "    data[:-k],\n",
    "    target=\"rainfall\",\n",
    "    freq=\"D\"\n",
    ")\n",
    "\n",
    "test_data = PandasDataset(data[-k:], target=\"rainfall\", freq='D')\n",
    "\n",
    "# Define estimator with modern parameters\n",
    "estimator = DeepAREstimator(\n",
    "    freq=\"D\",\n",
    "    prediction_length=1,\n",
    "    # model=ProbDeepAR,  # Use custom model with sigmoid activation\n",
    "    context_length=30,\n",
    "    distr_output=StudentTOutput(),\n",
    "    trainer_kwargs={\n",
    "        \"max_epochs\": 50,\n",
    "        \"enable_progress_bar\": True,\n",
    "    },\n",
    "    lr=1e-3,\n",
    "    num_layers=2,\n",
    "    hidden_size=40,  # Changed from num_cells to hidden_size\n",
    "    dropout_rate=0.1,\n",
    "    scaling=True,\n",
    ")\n",
    "\n",
    "# Train the model\n",
    "predictor = estimator.train(\n",
    "    training_data=train_data,\n",
    "    validation_data=test_data,  # Explicit validation\n",
    ")\n",
    "\n",
    "# Generate predictions\n",
    "forecast_it, ts_it = make_evaluation_predictions(\n",
    "    dataset=test_data,\n",
    "    predictor=predictor,\n",
    "    num_samples=100,\n",
    ")\n",
    "\n",
    "forecasts = list(forecast_it)\n",
    "tss = list(ts_it)\n",
    "\n",
    "# Process predictions\n",
    "forecast_probs = [f.samples.mean(axis=0).squeeze() for f in forecasts]\n",
    "threshold = 0.5\n",
    "binary_preds = [(p > threshold).astype(int) for p in forecast_probs]\n",
    "\n",
    "# Evaluation\n",
    "evaluator = Evaluator()\n",
    "agg_metrics, _ = evaluator(tss, forecasts)\n",
    "\n",
    "# Classification metrics\n",
    "actual = data['rainfall'][-k:].values\n",
    "predicted = np.concatenate(binary_preds)\n",
    "\n",
    "print(\"\\nProbabilistic Metrics:\")\n",
    "print(f\"CRPS: {agg_metrics['mean_wQuantileLoss']:.4f}\")\n",
    "print(f\"MAE: {agg_metrics['MAE']:.4f}\")\n",
    "\n",
    "print(\"\\nClassification Metrics:\")\n",
    "print(f\"Accuracy: {accuracy_score(actual, predicted):.4f}\")\n",
    "print(f\"Precision: {precision_score(actual, predicted):.4f}\") \n",
    "print(f\"Recall: {recall_score(actual, predicted):.4f}\")\n",
    "print(f\"F1: {f1_score(actual, predicted):.4f}\")"
   ]
  },
  {
   "cell_type": "code",
   "execution_count": null,
   "metadata": {},
   "outputs": [
    {
     "data": {
      "text/plain": [
       "(100, 1)"
      ]
     },
     "execution_count": 12,
     "metadata": {},
     "output_type": "execute_result"
    }
   ],
   "source": []
  }
 ],
 "metadata": {
  "kernelspec": {
   "display_name": "Python 3",
   "language": "python",
   "name": "python3"
  },
  "language_info": {
   "codemirror_mode": {
    "name": "ipython",
    "version": 3
   },
   "file_extension": ".py",
   "mimetype": "text/x-python",
   "name": "python",
   "nbconvert_exporter": "python",
   "pygments_lexer": "ipython3",
   "version": "3.11.9"
  }
 },
 "nbformat": 4,
 "nbformat_minor": 2
}
