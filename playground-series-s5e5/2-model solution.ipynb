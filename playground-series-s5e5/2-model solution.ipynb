{
 "cells": [
  {
   "cell_type": "code",
   "execution_count": 18,
   "id": "12f32184",
   "metadata": {},
   "outputs": [],
   "source": [
    "train_path = 'train.csv'\n",
    "test_path = 'test.csv'\n",
    "\n",
    "import pandas as pd\n",
    "import numpy as np\n",
    "import matplotlib.pyplot as plt\n",
    "import seaborn as sns\n",
    "\n",
    "train = pd.read_csv(train_path)"
   ]
  },
  {
   "cell_type": "code",
   "execution_count": 17,
   "id": "9f54b36b",
   "metadata": {},
   "outputs": [],
   "source": [
    "def outlier_bounds(data, column, prop=0.05):\n",
    "    lower_bound = data[column].quantile(prop/2)\n",
    "    upper_bound = data[column].quantile(1 - prop/2)\n",
    "\n",
    "    return lower_bound, upper_bound\n",
    "\n",
    "def outlier_removal(data, columns):\n",
    "    indices = [True] * len(data)\n",
    "    for column in columns:\n",
    "        lower_bound, upper_bound = outlier_bounds(data, column)\n",
    "        indices &= (data[column] >= lower_bound) & (data[column] <= upper_bound)\n",
    "    return data[indices]\n"
   ]
  },
  {
   "cell_type": "code",
   "execution_count": 30,
   "id": "b707d968",
   "metadata": {},
   "outputs": [
    {
     "name": "stdout",
     "output_type": "stream",
     "text": [
      "Age (np.float64(20.0), np.float64(73.0))\n",
      "Height (np.float64(152.0), np.float64(198.0))\n",
      "Weight (np.float64(53.0), np.float64(101.0))\n",
      "Duration (np.float64(2.0), np.float64(29.0))\n",
      "Heart_Rate (np.float64(78.0), np.float64(113.0))\n",
      "Body_Temp (np.float64(38.0), np.float64(41.0))\n",
      "Calories (np.float64(6.0), np.float64(217.0))\n"
     ]
    }
   ],
   "source": [
    "numeric_columns = ['Age', 'Height', 'Weight', 'Duration', 'Heart_Rate',\n",
    "       'Body_Temp', 'Calories']\n",
    "\n",
    "for column in numeric_columns:\n",
    "    print(column, outlier_bounds(train, column))"
   ]
  },
  {
   "cell_type": "code",
   "execution_count": 19,
   "id": "09764acf",
   "metadata": {},
   "outputs": [
    {
     "name": "stderr",
     "output_type": "stream",
     "text": [
      "C:\\Users\\Sathya\\AppData\\Local\\Temp\\ipykernel_17508\\754121381.py:11: FutureWarning: Logical ops (and, or, xor) between Pandas objects and dtype-less sequences (e.g. list, tuple) are deprecated and will raise in a future version. Wrap the object in a Series, Index, or np.array before operating instead.\n",
      "  indices &= (data[column] >= lower_bound) & (data[column] <= upper_bound)\n"
     ]
    },
    {
     "data": {
      "text/plain": [
       "(621216, 9)"
      ]
     },
     "execution_count": 19,
     "metadata": {},
     "output_type": "execute_result"
    }
   ],
   "source": [
    "train = outlier_removal(train, numeric_columns)\n",
    "train.shape"
   ]
  },
  {
   "cell_type": "code",
   "execution_count": 31,
   "id": "b30e5905",
   "metadata": {},
   "outputs": [
    {
     "name": "stderr",
     "output_type": "stream",
     "text": [
      "C:\\Users\\Sathya\\AppData\\Local\\Temp\\ipykernel_17508\\754121381.py:11: FutureWarning: Logical ops (and, or, xor) between Pandas objects and dtype-less sequences (e.g. list, tuple) are deprecated and will raise in a future version. Wrap the object in a Series, Index, or np.array before operating instead.\n",
      "  indices &= (data[column] >= lower_bound) & (data[column] <= upper_bound)\n"
     ]
    }
   ],
   "source": [
    "import numpy as np\n",
    "from sklearn.preprocessing import LabelEncoder\n",
    "import lightgbm as lgb\n",
    "enc = LabelEncoder()\n",
    "\n",
    "numeric_columns.remove('Calories')\n",
    "train = pd.read_csv('train.csv')\n",
    "train['z'] = np.log1p(train['Calories'])\n",
    "train = outlier_removal(train, numeric_columns+['z'])\n",
    "train['Sex'] = enc.fit_transform(train['Sex'])\n",
    "X_train = train.drop(columns=['id', 'Calories', 'z'])\n",
    "# y_train = train['Calories']\n",
    "# z_train = np.log1p(y_train)\n",
    "z_train = train['z']\n",
    "lgb_train = lgb.Dataset(X_train, label=z_train)\n",
    "\n",
    "test = pd.read_csv('test.csv')\n",
    "test['Sex'] = enc.transform(test['Sex'])\n",
    "X_test = test.drop(columns=['id'])\n",
    "# y_train = test['Calories']\n",
    "# lgb_test = lgb.Dataset(X_test)\n",
    "\n",
    "params = {\n",
    "    # \"objective\": rmsle_lgb_obj,\n",
    "    \"learning_rate\": 0.1,\n",
    "    \"max_depth\": -1,\n",
    "    \"verbose\": -1,\n",
    "    \"seed\": 42,\n",
    "}\n",
    "\n",
    "model = lgb.train(params,\n",
    "                  lgb_train,\n",
    "                  num_boost_round=1000,\n",
    "                #   feval=rmsle_lgb_eval,\n",
    "                #   valid_sets=[lgb_train, lgb_eval],\n",
    "                #   early_stopping_rounds=10,\n",
    "                # callbacks = [lgb.record_evaluation(evals)]\n",
    "                )\n",
    "\n",
    "z_pred = model.predict(X_test)\n",
    "y_pred = np.expm1(z_pred)\n",
    "y_pred = np.clip(y_pred, 0, None)  # Ensure predictions are non-negative"
   ]
  },
  {
   "cell_type": "markdown",
   "id": "7b92c4e5",
   "metadata": {},
   "source": [
    "Outlier makes model perform a lot worse"
   ]
  },
  {
   "cell_type": "markdown",
   "id": "57f8cb00",
   "metadata": {},
   "source": [
    "# 2-model solution"
   ]
  },
  {
   "cell_type": "code",
   "execution_count": 17,
   "id": "884d9174",
   "metadata": {},
   "outputs": [],
   "source": [
    "predictors = ['Sex', 'Age', 'Height', 'Weight', 'Duration', 'Heart_Rate',\n",
    "       'Body_Temp']\n",
    "target = 'z'\n",
    "params_lgb = {\n",
    "    \"objective\": \"regression\",\n",
    "    \"metric\": \"rmse\",\n",
    "    \"learning_rate\": 0.05,\n",
    "    \"max_depth\": -1,\n",
    "    \"verbose\": -1,\n",
    "    \"seed\": 42,\n",
    "}\n",
    "\n",
    "params_xgb = {\n",
    "    \"objective\": \"reg:squarederror\",\n",
    "    \"eval_metric\": \"rmse\",\n",
    "    \"learning_rate\": 0.05,\n",
    "    # \"max_depth\": 6,\n",
    "    \"verbosity\": 0,\n",
    "    \"seed\": 42,\n",
    "}"
   ]
  },
  {
   "cell_type": "code",
   "execution_count": null,
   "id": "6443ec5f",
   "metadata": {},
   "outputs": [
    {
     "name": "stdout",
     "output_type": "stream",
     "text": [
      "Fold RMSE: 0.06026363889985602\n",
      "Fold RMSE: 0.06061225683382612\n",
      "Fold RMSE: 0.06014281436773985\n",
      "Fold RMSE: 0.06037775873673849\n",
      "Fold RMSE: 0.05990351040613537\n",
      "5-Fold CV RMSE (mean): 0.060259995848859174\n"
     ]
    }
   ],
   "source": [
    "import numpy as np\n",
    "import pandas as pd\n",
    "from sklearn.preprocessing import LabelEncoder\n",
    "from sklearn.metrics import root_mean_squared_error as rsme\n",
    "enc = LabelEncoder()\n",
    "\n",
    "train = pd.read_csv('train.csv')\n",
    "train['Sex'] = enc.fit_transform(train['Sex'])\n",
    "train['z'] = np.log1p(train['Calories'])\n",
    "indices = train['Sex'] == 0\n",
    "X = train[predictors]\n",
    "z = train[target]\n",
    "\n",
    "Xf = X[indices]\n",
    "zf = z[indices]\n",
    "\n",
    "Xm = X[~indices]\n",
    "zm = z[~indices]\n",
    "\n",
    "\n",
    "\n",
    "\n",
    "import lightgbm as lgb\n",
    "from sklearn.model_selection import KFold\n",
    "import numpy as np\n",
    "params = {\n",
    "    \"objective\": \"regression\",\n",
    "    \"metric\": \"rmse\",\n",
    "    \"learning_rate\": 0.05,\n",
    "    \"max_depth\": -1,\n",
    "    \"verbose\": -1,\n",
    "    \"seed\": 42,\n",
    "}\n",
    "\n",
    "print(\"Female model\")\n",
    "from sklearn.model_selection import train_test_split\n",
    "X_train, X_test, z_train, z_test = train_test_split(Xf, zf, test_size=0.2, random_state=42)\n",
    "\n",
    "kf = KFold(n_splits=5, shuffle=True, random_state=42)\n",
    "cv_rmses = []\n",
    "for i, (train_idx, val_idx) in (enumerate(kf.split(X))):\n",
    "    X_tr, X_val = X.iloc[train_idx], X.iloc[val_idx]\n",
    "    z_tr, z_val = z.iloc[train_idx], z.iloc[val_idx]\n",
    "    lgb_train_cv = lgb.Dataset(X_tr, label=z_tr)\n",
    "    model_cv = lgb.train(params,\n",
    "                         lgb_train_cv,\n",
    "                         num_boost_round=1000)\n",
    "    z_pred_cv = model_cv.predict(X_val)\n",
    "    cv_rmses.append(rsme(z_val, z_pred_cv))\n",
    "    print(\"Fold RMSE:\", cv_rmses[-1])\n",
    "print(\"5-Fold CV RMSE (mean):\", np.mean(cv_rmses))\n",
    "\n",
    "print(\"Male model\")\n",
    "from sklearn.model_selection import train_test_split\n",
    "X_train, X_test, z_train, z_test = train_test_split(Xm, zm, test_size=0.2, random_state=42)\n",
    "\n",
    "kf = KFold(n_splits=5, shuffle=True, random_state=42)\n",
    "cv_rmses = []\n",
    "for i, (train_idx, val_idx) in (enumerate(kf.split(X))):\n",
    "    X_tr, X_val = X.iloc[train_idx], X.iloc[val_idx]\n",
    "    z_tr, z_val = z.iloc[train_idx], z.iloc[val_idx]\n",
    "    lgb_train_cv = lgb.Dataset(X_tr, label=z_tr)\n",
    "    model_cv = lgb.train(params,\n",
    "                         lgb_train_cv,\n",
    "                         num_boost_round=1000)\n",
    "    z_pred_cv = model_cv.predict(X_val)\n",
    "    cv_rmses.append(rsme(z_val, z_pred_cv))\n",
    "    print(\"Fold RMSE:\", cv_rmses[-1])\n",
    "print(\"5-Fold CV RMSE (mean):\", np.mean(cv_rmses))\n",
    "\n"
   ]
  },
  {
   "cell_type": "code",
   "execution_count": 10,
   "id": "9414748d",
   "metadata": {},
   "outputs": [
    {
     "name": "stdout",
     "output_type": "stream",
     "text": [
      "Female model\n",
      "Fold RMSE: 0.04903869814694339\n",
      "Fold RMSE: 0.049777323418691774\n",
      "Fold RMSE: 0.0493589707782226\n",
      "Fold RMSE: 0.04951170309985049\n",
      "Fold RMSE: 0.05151598973449904\n",
      "5-Fold CV RMSE (mean): 0.049840537035641466\n",
      "Male model\n",
      "Fold RMSE: 0.06962670041615204\n",
      "Fold RMSE: 0.06850289382786343\n",
      "Fold RMSE: 0.06870631042324044\n",
      "Fold RMSE: 0.07014221869468071\n",
      "Fold RMSE: 0.06871563948338268\n",
      "5-Fold CV RMSE (mean): 0.06913875256906385\n"
     ]
    }
   ],
   "source": [
    "import numpy as np\n",
    "import pandas as pd\n",
    "from sklearn.preprocessing import LabelEncoder\n",
    "from sklearn.metrics import root_mean_squared_error as rsme\n",
    "enc = LabelEncoder()\n",
    "\n",
    "train = pd.read_csv('train.csv')\n",
    "train['Sex'] = enc.fit_transform(train['Sex'])\n",
    "train['z'] = np.log1p(train['Calories'])\n",
    "indices = train['Sex'] == 0\n",
    "X = train[predictors]\n",
    "z = train[target]\n",
    "\n",
    "Xf = X[indices]\n",
    "zf = z[indices]\n",
    "\n",
    "Xm = X[~indices]\n",
    "zm = z[~indices]\n",
    "\n",
    "\n",
    "\n",
    "\n",
    "import lightgbm as lgb\n",
    "from sklearn.model_selection import KFold\n",
    "import numpy as np\n",
    "params = {\n",
    "    \"objective\": \"regression\",\n",
    "    \"metric\": \"rmse\",\n",
    "    \"learning_rate\": 0.05,\n",
    "    \"max_depth\": -1,\n",
    "    \"verbose\": -1,\n",
    "    \"seed\": 42,\n",
    "}\n",
    "\n",
    "print(\"Female model\")\n",
    "\n",
    "\n",
    "kf = KFold(n_splits=5, shuffle=True, random_state=42)\n",
    "cv_rmses = []\n",
    "for i, (train_idx, val_idx) in (enumerate(kf.split(Xf))):\n",
    "    X_tr, X_val = Xf.iloc[train_idx], Xf.iloc[val_idx]\n",
    "    z_tr, z_val = zf.iloc[train_idx], zf.iloc[val_idx]\n",
    "    lgb_train_cv = lgb.Dataset(X_tr, label=z_tr)\n",
    "    model_cv = lgb.train(params,\n",
    "                         lgb_train_cv,\n",
    "                         num_boost_round=1000)\n",
    "    z_pred_cv = model_cv.predict(X_val)\n",
    "    cv_rmses.append(rsme(z_val, z_pred_cv))\n",
    "    print(\"Fold RMSE:\", cv_rmses[-1])\n",
    "print(\"5-Fold CV RMSE (mean):\", np.mean(cv_rmses))\n",
    "\n",
    "print(\"Male model\")\n",
    "\n",
    "\n",
    "kf = KFold(n_splits=5, shuffle=True, random_state=42)\n",
    "cv_rmses = []\n",
    "for i, (train_idx, val_idx) in (enumerate(kf.split(Xm))):\n",
    "    X_tr, X_val = Xm.iloc[train_idx], Xm.iloc[val_idx]\n",
    "    z_tr, z_val = zm.iloc[train_idx], zm.iloc[val_idx]\n",
    "    lgb_train_cv = lgb.Dataset(X_tr, label=z_tr)\n",
    "    model_cv = lgb.train(params,\n",
    "                         lgb_train_cv,\n",
    "                         num_boost_round=1000)\n",
    "    z_pred_cv = model_cv.predict(X_val)\n",
    "    cv_rmses.append(rsme(z_val, z_pred_cv))\n",
    "    print(\"Fold RMSE:\", cv_rmses[-1])\n",
    "print(\"5-Fold CV RMSE (mean):\", np.mean(cv_rmses))"
   ]
  },
  {
   "cell_type": "markdown",
   "id": "daa31b72",
   "metadata": {},
   "source": [
    "## Generate Predictions"
   ]
  },
  {
   "cell_type": "code",
   "execution_count": null,
   "id": "9b8433cd",
   "metadata": {},
   "outputs": [],
   "source": [
    "import pandas as pd\n",
    "from sklearn.preprocessing import LabelEncoder\n",
    "import numpy as np\n",
    "import lightgbm as lgb\n",
    "# from sklearn.metrics import mean_squared_error as mse\n",
    "enc = LabelEncoder()\n",
    "train = pd.read_csv('train.csv')\n",
    "train['Sex'] = enc.fit_transform(train['Sex'])\n",
    "train['z'] = np.log1p(train['Calories'])\n",
    "indices = train['Sex'] == 0\n",
    "X = train[predictors]\n",
    "z = train[target]\n",
    "\n",
    "Xf = X[indices]\n",
    "zf = z[indices]\n",
    "\n",
    "\n",
    "Xm = X[~indices]\n",
    "zm = z[~indices]\n",
    "\n",
    "lgb_train_f = lgb.Dataset(Xf, label=zf)\n",
    "lgb_train_m = lgb.Dataset(Xm, label=zm)\n",
    "\n",
    "model_f = lgb.train(params,\n",
    "                    lgb_train_f,\n",
    "                    num_boost_round=1000)\n",
    "model_m = lgb.train(params,\n",
    "                    lgb_train_m,\n",
    "                    num_boost_round=1000)\n",
    "\n",
    "test = pd.read_csv('test.csv')\n",
    "test['Sex'] = enc.transform(test['Sex'])\n",
    "indices_test = test['Sex']==0\n",
    "\n",
    "test_f = test[indices_test]\n",
    "test_m = test[~indices_test]\n",
    "\n",
    "z_pred_f = model_f.predict(test_f[predictors])\n",
    "z_pred_m = model_m.predict(test_m[predictors])\n",
    "\n",
    "z_pred = np.zeros(len(test))\n",
    "z_pred[indices_test] = z_pred_f\n",
    "z_pred[~indices_test] = z_pred_m\n",
    "\n",
    "# z_pred = test['z']\n",
    "\n",
    "y_pred = np.clip(np.expm1(z_pred), 0, None)\n"
   ]
  },
  {
   "cell_type": "code",
   "execution_count": 14,
   "id": "e6461432",
   "metadata": {},
   "outputs": [
    {
     "data": {
      "text/plain": [
       "array([3.32691559, 4.70222584, 4.48474321, ..., 4.30134935, 5.13576943,\n",
       "       4.34437577])"
      ]
     },
     "execution_count": 14,
     "metadata": {},
     "output_type": "execute_result"
    }
   ],
   "source": [
    "z_pred"
   ]
  },
  {
   "cell_type": "markdown",
   "id": "491f9b73",
   "metadata": {},
   "source": [
    "2-model lgb is already better than 1-model ensemble of lgb, xgb"
   ]
  },
  {
   "cell_type": "markdown",
   "id": "ea618acb",
   "metadata": {},
   "source": [
    "# 2-model avg of LGB, XGB"
   ]
  },
  {
   "cell_type": "code",
   "execution_count": null,
   "id": "6048ff0d",
   "metadata": {},
   "outputs": [
    {
     "name": "stdout",
     "output_type": "stream",
     "text": [
      "Running 2-model LGB\n",
      "Running 2-model XGB\n"
     ]
    }
   ],
   "source": [
    "import pandas as pd\n",
    "from sklearn.preprocessing import LabelEncoder\n",
    "import numpy as np\n",
    "import lightgbm as lgb\n",
    "import xgboost as xgb\n",
    "# from sklearn.metrics import mean_squared_error as mse\n",
    "enc = LabelEncoder()\n",
    "\n",
    "# Prepare the train data\n",
    "train = pd.read_csv('train.csv')\n",
    "train['Sex'] = enc.fit_transform(train['Sex'])\n",
    "train['z'] = np.log1p(train['Calories'])\n",
    "X = train[predictors]\n",
    "z = train[target]\n",
    "# Extract female indices\n",
    "indices = train['Sex'] == 0\n",
    "# Separate the datasets\n",
    "Xf = X[indices]\n",
    "zf = z[indices]\n",
    "\n",
    "Xm = X[~indices]\n",
    "zm = z[~indices]\n",
    "\n",
    "# Prepare the test data\n",
    "test = pd.read_csv('test.csv')\n",
    "test['Sex'] = enc.transform(test['Sex'])\n",
    "# Extract female indices\n",
    "indices_test = test['Sex']==0\n",
    "# Separate the datasets\n",
    "test_f = test[indices_test]\n",
    "test_m = test[~indices_test]\n",
    "\n",
    "\n",
    "\n",
    "# Run 2-model_LGB\n",
    "print(\"Running 2-model LGB\")\n",
    "lgb_train_f = lgb.Dataset(Xf, label=zf)\n",
    "lgb_train_m = lgb.Dataset(Xm, label=zm)\n",
    "\n",
    "model_f_lgb = lgb.train(params,\n",
    "                    lgb_train_f,\n",
    "                    num_boost_round=1000)\n",
    "model_m_lgb = lgb.train(params,\n",
    "                    lgb_train_m,\n",
    "                    num_boost_round=1000)\n",
    "\n",
    "z_pred_f_lgb = model_f_lgb.predict(test_f[predictors])\n",
    "z_pred_m_lgb = model_m_lgb.predict(test_m[predictors])\n",
    "\n",
    "z_pred_lgb = np.zeros(len(test))\n",
    "z_pred_lgb[indices_test] = z_pred_f_lgb\n",
    "z_pred_lgb[~indices_test] = z_pred_m_lgb\n",
    "\n",
    "# Run 2-model_XGB\n",
    "print(\"Running 2-model XGB\")\n",
    "xgb_train_f = xgb.DMatrix(Xf, label=zf)\n",
    "xgb_train_m = xgb.DMatrix(Xm, label=zm)\n",
    "model_f_xgb = xgb.train(params_xgb,\n",
    "                    xgb_train_f,\n",
    "                    num_boost_round=1000)\n",
    "model_m_xgb = xgb.train(params_xgb,\n",
    "                    xgb_train_m,\n",
    "                    num_boost_round=1000)\n",
    "z_pred_f_xgb = model_f_xgb.predict(xgb.DMatrix(test_f[predictors]))\n",
    "z_pred_m_xgb = model_m_xgb.predict(xgb.DMatrix(test_m[predictors]))\n",
    "\n",
    "z_pred_xgb = np.zeros(len(test))\n",
    "z_pred_xgb[indices_test] = z_pred_f_xgb\n",
    "z_pred_xgb[~indices_test] = z_pred_m_xgb\n",
    "\n",
    "# Combine the predictions\n",
    "z_pred = (z_pred_lgb + z_pred_xgb) / 2\n",
    "\n",
    "y_pred = np.clip(np.expm1(z_pred), 0, None)\n"
   ]
  },
  {
   "cell_type": "markdown",
   "id": "e2918a08",
   "metadata": {},
   "source": [
    "# Submission"
   ]
  },
  {
   "cell_type": "code",
   "execution_count": 21,
   "id": "759d46e9",
   "metadata": {},
   "outputs": [],
   "source": [
    "def generate_submission(y_pred, submission_name):\n",
    "    \n",
    "    df_submission = pd.read_csv('sample_submission.csv')\n",
    "    df_submission['Calories'] = y_pred\n",
    "    df_submission.to_csv(submission_name, index=False)\n",
    "\n",
    "submission_name = '2model_avg_xgb_lgb'\n",
    "generate_submission(y_pred, f'submissions\\\\{submission_name}.csv')"
   ]
  }
 ],
 "metadata": {
  "kernelspec": {
   "display_name": "Python 3",
   "language": "python",
   "name": "python3"
  },
  "language_info": {
   "codemirror_mode": {
    "name": "ipython",
    "version": 3
   },
   "file_extension": ".py",
   "mimetype": "text/x-python",
   "name": "python",
   "nbconvert_exporter": "python",
   "pygments_lexer": "ipython3",
   "version": "3.11.9"
  }
 },
 "nbformat": 4,
 "nbformat_minor": 5
}
