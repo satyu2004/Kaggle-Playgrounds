{
 "cells": [
  {
   "cell_type": "code",
   "execution_count": 2,
   "id": "8964fe7a",
   "metadata": {},
   "outputs": [],
   "source": [
    "predictors = ['Sex', 'Age', 'Height', 'Weight', 'Duration', 'Heart_Rate',\n",
    "       'Body_Temp']\n",
    "target = 'z'\n",
    "params_lgb = {\n",
    "    \"objective\": \"regression\",\n",
    "    \"metric\": \"rmse\",\n",
    "    \"learning_rate\": 0.05,\n",
    "    \"max_depth\": -1,\n",
    "    \"verbose\": -1,\n",
    "    \"seed\": 42,\n",
    "}\n",
    "\n",
    "params_xgb = {\n",
    "    \"objective\": \"reg:squarederror\",\n",
    "    \"eval_metric\": \"rmse\",\n",
    "    \"learning_rate\": 0.05,\n",
    "    # \"max_depth\": 6,\n",
    "    \"verbosity\": 0,\n",
    "    \"seed\": 42,\n",
    "}"
   ]
  },
  {
   "cell_type": "code",
   "execution_count": 2,
   "id": "5e4b48db",
   "metadata": {},
   "outputs": [],
   "source": [
    "import pandas as pd\n",
    "from sklearn.preprocessing import LabelEncoder\n",
    "import numpy as np\n",
    "import lightgbm as lgb\n",
    "import xgboost as xgb\n",
    "# from sklearn.metrics import mean_squared_error as mse\n",
    "enc = LabelEncoder()\n",
    "\n",
    "# Prepare the train data\n",
    "train = pd.read_csv('train.csv')\n",
    "train['Sex'] = enc.fit_transform(train['Sex'])\n",
    "train['z'] = np.log1p(train['Calories'])\n",
    "X = train[predictors]\n",
    "z = train[target]\n",
    "# Extract female indices\n",
    "indices = train['Sex'] == 0\n",
    "# Separate the datasets\n",
    "Xf = X[indices]\n",
    "zf = z[indices]\n",
    "\n",
    "Xm = X[~indices]\n",
    "zm = z[~indices]\n",
    "\n",
    "# Prepare the test data\n",
    "test = pd.read_csv('test.csv')\n",
    "test['Sex'] = enc.transform(test['Sex'])\n",
    "# Extract female indices\n",
    "indices_test = test['Sex']==0\n",
    "# Separate the datasets\n",
    "test_f = test[indices_test]\n",
    "test_m = test[~indices_test]"
   ]
  },
  {
   "cell_type": "markdown",
   "id": "a4696a2d",
   "metadata": {},
   "source": [
    "# 2-model HGB"
   ]
  },
  {
   "cell_type": "code",
   "execution_count": 3,
   "id": "f0f9d427",
   "metadata": {},
   "outputs": [],
   "source": [
    "from sklearn.ensemble import HistGradientBoostingRegressor\n",
    "\n",
    "\n",
    "\n",
    "model_f_hgb = HistGradientBoostingRegressor(learning_rate=0.05,\n",
    "                                          max_iter=1000,\n",
    "                                          random_state=42)\n",
    "model_m_hgb = HistGradientBoostingRegressor(learning_rate=0.05,\n",
    "                                          max_iter=1000,\n",
    "                                          random_state=42)\n",
    "\n",
    "model_f_hgb.fit(Xf, zf)\n",
    "model_m_hgb.fit(Xm, zm)\n",
    "\n",
    "z_pred_f_hgb = model_f_hgb.predict(test_f[predictors])\n",
    "z_pred_m_hgb = model_m_hgb.predict(test_m[predictors])\n",
    "\n",
    "# Combine the predictions\n",
    "z_pred_hgb = np.zeros(len(test))\n",
    "z_pred_hgb[indices_test] = z_pred_f_hgb\n",
    "z_pred_hgb[~indices_test] = z_pred_m_hgb\n",
    "\n",
    "# z_pred = test['z']\n",
    "\n",
    "y_pred = np.clip(np.expm1(z_pred_hgb), 0, None)"
   ]
  },
  {
   "cell_type": "markdown",
   "id": "f3da7dd1",
   "metadata": {},
   "source": [
    "# 2-model LGB"
   ]
  },
  {
   "cell_type": "code",
   "execution_count": null,
   "id": "e0ec42e2",
   "metadata": {},
   "outputs": [],
   "source": [
    "lgb_train_f = lgb.Dataset(Xf, label=zf)\n",
    "lgb_train_m = lgb.Dataset(Xm, label=zm)\n",
    "\n",
    "model_f = lgb.train(params_lgb,\n",
    "                    lgb_train_f,\n",
    "                    num_boost_round=1000)\n",
    "model_m = lgb.train(params_lgb,\n",
    "                    lgb_train_m,\n",
    "                    num_boost_round=1000)\n",
    "\n",
    "\n",
    "z_pred_f_lgb = model_f.predict(test_f[predictors])\n",
    "z_pred_m_lgb = model_m.predict(test_m[predictors])\n",
    "\n",
    "z_pred_lgb = np.zeros(len(test))\n",
    "z_pred_lgb[indices_test] = z_pred_f_lgb\n",
    "z_pred_lgb[~indices_test] = z_pred_m_lgb\n",
    "\n",
    "# z_pred_lgb = test['z']\n",
    "\n",
    "y_pred = np.clip(np.expm1(z_pred_lgb), 0, None)"
   ]
  },
  {
   "cell_type": "markdown",
   "id": "38ee6374",
   "metadata": {},
   "source": [
    "# 2-model XGB"
   ]
  },
  {
   "cell_type": "code",
   "execution_count": 7,
   "id": "1bfdb261",
   "metadata": {},
   "outputs": [],
   "source": [
    "xgb_train_f = xgb.DMatrix(Xf, label=zf)\n",
    "xgb_train_m = xgb.DMatrix(Xm, label=zm)\n",
    "model_f_xgb = xgb.train(params_xgb,\n",
    "                    xgb_train_f,\n",
    "                    num_boost_round=1000)\n",
    "model_m_xgb = xgb.train(params_xgb,\n",
    "                    xgb_train_m,\n",
    "                    num_boost_round=1000)\n",
    "z_pred_f_xgb = model_f_xgb.predict(xgb.DMatrix(test_f[predictors]))\n",
    "z_pred_m_xgb = model_m_xgb.predict(xgb.DMatrix(test_m[predictors]))\n",
    "\n",
    "z_pred_xgb = np.zeros(len(test))\n",
    "z_pred_xgb[indices_test] = z_pred_f_xgb\n",
    "z_pred_xgb[~indices_test] = z_pred_m_xgb"
   ]
  },
  {
   "cell_type": "markdown",
   "id": "1268f616",
   "metadata": {},
   "source": [
    "# Ensemble of LGB, XGB, HGB"
   ]
  },
  {
   "cell_type": "markdown",
   "id": "b25b4553",
   "metadata": {},
   "source": [
    "## Mean"
   ]
  },
  {
   "cell_type": "markdown",
   "id": "3dfb5c67",
   "metadata": {},
   "source": [
    "### Crossval results"
   ]
  },
  {
   "cell_type": "code",
   "execution_count": 4,
   "id": "89551fc0",
   "metadata": {},
   "outputs": [
    {
     "name": "stdout",
     "output_type": "stream",
     "text": [
      "RMSE (mean): 0.05957968473024043, RMSE (median): 0.05966007361370051\n",
      "RMSE (mean): 0.06057475373718219, RMSE (median): 0.06070332258385359\n",
      "RMSE (mean): 0.05948436169246183, RMSE (median): 0.059734527877212285\n",
      "RMSE (mean): 0.060023019053754324, RMSE (median): 0.06007363141063316\n",
      "RMSE (mean): 0.059515753432951554, RMSE (median): 0.059614183073461564\n"
     ]
    }
   ],
   "source": [
    "# Cross-validation setup\n",
    "import pandas as pd\n",
    "import xgboost as xgb\n",
    "import lightgbm as lgb\n",
    "from sklearn.ensemble import HistGradientBoostingRegressor\n",
    "from sklearn.model_selection import KFold\n",
    "from sklearn.metrics import mean_squared_error\n",
    "from sklearn.preprocessing import LabelEncoder\n",
    "import numpy as np\n",
    "\n",
    "enc = LabelEncoder()\n",
    "\n",
    "# Prepare the train data\n",
    "train = pd.read_csv('train.csv')\n",
    "train['Sex'] = enc.fit_transform(train['Sex'])\n",
    "train['z'] = np.log1p(train['Calories'])\n",
    "X = train[predictors]\n",
    "z = train[target]\n",
    "\n",
    "kf = KFold(n_splits=5, shuffle=True, random_state=42)\n",
    "rmses = []\n",
    "for train_index, val_index in kf.split(X):\n",
    "    X_train, X_val = X.iloc[train_index], X.iloc[val_index]\n",
    "    z_train, z_val = z.iloc[train_index], z.iloc[val_index]\n",
    "    indices_train = X_train['Sex'] == 0\n",
    "    indices_val = X_val['Sex'] == 0\n",
    "    # Separate the datasets\n",
    "\n",
    "    # Train the model\n",
    "    ## HGB\n",
    "    model_f_hgb = HistGradientBoostingRegressor(learning_rate=0.05,\n",
    "                                          max_iter=1000,\n",
    "                                          random_state=42)\n",
    "    model_m_hgb = HistGradientBoostingRegressor(learning_rate=0.05,\n",
    "                                            max_iter=1000,\n",
    "                                            random_state=42)\n",
    "    model_f_hgb.fit(X_train[indices_train], z_train[indices_train])\n",
    "    model_m_hgb.fit(X_train[~indices_train], z_train[~indices_train])\n",
    "    ## LGB\n",
    "    lgb_train_f = lgb.Dataset(X_train[indices_train], label=z_train[indices_train])\n",
    "    lgb_train_m = lgb.Dataset(X_train[~indices_train], label=z_train[~indices_train])\n",
    "    model_f = lgb.train(params_lgb,\n",
    "                        lgb_train_f,\n",
    "                        num_boost_round=1000)\n",
    "    model_m = lgb.train(params_lgb,\n",
    "                        lgb_train_m,\n",
    "                        num_boost_round=1000)\n",
    "    ## XGB\n",
    "    xgb_train_f = xgb.DMatrix(X_train[indices_train], label=z_train[indices_train])\n",
    "    xgb_train_m = xgb.DMatrix(X_train[~indices_train], label=z_train[~indices_train])\n",
    "    model_f_xgb = xgb.train(params_xgb,\n",
    "                        xgb_train_f,\n",
    "                        num_boost_round=1000)\n",
    "    model_m_xgb = xgb.train(params_xgb,\n",
    "                        xgb_train_m,\n",
    "                        num_boost_round=1000)\n",
    "\n",
    "    # Make predictions\n",
    "    z_pred_hgb_f, z_pred_lgb_f, z_pred_xgb_f = model_f_hgb.predict(X_val[indices_val]), model_f.predict(X_val[indices_val]), model_f_xgb.predict(xgb.DMatrix(X_val[indices_val]))\n",
    "    z_pred_hgb_m, z_pred_lgb_m, z_pred_xgb_m = model_m_hgb.predict(X_val[~indices_val]), model_m.predict(X_val[~indices_val]), model_m_xgb.predict(xgb.DMatrix(X_val[~indices_val]))\n",
    "    \n",
    "    # Ensemble by means and medians\n",
    "    z_pred_f_mean, z_pred_f_median = np.mean([z_pred_hgb_f, z_pred_lgb_f, z_pred_xgb_f], axis=0), np.median([z_pred_hgb_f, z_pred_lgb_f, z_pred_xgb_f], axis=0)\n",
    "    z_pred_m_mean, z_pred_m_median = np.mean([z_pred_hgb_m, z_pred_lgb_m, z_pred_xgb_m], axis=0), np.median([z_pred_hgb_m, z_pred_lgb_m, z_pred_xgb_m], axis=0)\n",
    "\n",
    "    # Combine predictions\n",
    "    z_pred_mean, z_pred_median = np.zeros(len(X_val)), np.zeros(len(X_val))\n",
    "    z_pred_mean[indices_val], z_pred_median[indices_val] = z_pred_f_mean, z_pred_f_median\n",
    "    z_pred_mean[~indices_val], z_pred_median[~indices_val] = z_pred_m_mean, z_pred_m_median\n",
    "\n",
    "\n",
    "    # Calculate RMSE\n",
    "    rmse_mean, rmse_median = np.sqrt(mean_squared_error(z_pred_mean, z_val)), np.sqrt(mean_squared_error(z_pred_median, z_val))\n",
    "    print(f\"RMSE (mean): {rmse_mean}, RMSE (median): {rmse_median}\")\n",
    "    rmses.append((rmse_mean, rmse_median))"
   ]
  },
  {
   "cell_type": "code",
   "execution_count": 8,
   "id": "08641511",
   "metadata": {},
   "outputs": [],
   "source": [
    "z_pred = np.mean([z_pred_hgb, z_pred_lgb, z_pred_xgb], axis=0)\n",
    "\n",
    "y_pred = np.clip(np.expm1(z_pred), 0, None)"
   ]
  },
  {
   "cell_type": "code",
   "execution_count": null,
   "id": "16ab8fe0",
   "metadata": {},
   "outputs": [
    {
     "data": {
      "text/plain": [
       "'2.1.3'"
      ]
     },
     "execution_count": 5,
     "metadata": {},
     "output_type": "execute_result"
    }
   ],
   "source": []
  },
  {
   "cell_type": "markdown",
   "id": "c488f44d",
   "metadata": {},
   "source": [
    "## Median"
   ]
  },
  {
   "cell_type": "code",
   "execution_count": 10,
   "id": "72b62a97",
   "metadata": {},
   "outputs": [],
   "source": [
    "z_pred = np.median([z_pred_hgb, z_pred_lgb, z_pred_xgb], axis=0)\n",
    "\n",
    "y_pred = np.clip(np.expm1(z_pred), 0, None)"
   ]
  },
  {
   "cell_type": "markdown",
   "id": "9f472346",
   "metadata": {},
   "source": [
    "# Submission"
   ]
  },
  {
   "cell_type": "code",
   "execution_count": 11,
   "id": "27db08d3",
   "metadata": {},
   "outputs": [],
   "source": [
    "def generate_submission(y_pred, submission_name):\n",
    "    \n",
    "    df_submission = pd.read_csv('sample_submission.csv')\n",
    "    df_submission['Calories'] = y_pred\n",
    "    df_submission.to_csv(submission_name, index=False)\n",
    "\n",
    "submission_name = '2model_median_lgb_xgb_hgb'\n",
    "generate_submission(y_pred, f'submissions\\\\{submission_name}.csv')"
   ]
  }
 ],
 "metadata": {
  "kernelspec": {
   "display_name": "Python 3",
   "language": "python",
   "name": "python3"
  },
  "language_info": {
   "codemirror_mode": {
    "name": "ipython",
    "version": 3
   },
   "file_extension": ".py",
   "mimetype": "text/x-python",
   "name": "python",
   "nbconvert_exporter": "python",
   "pygments_lexer": "ipython3",
   "version": "3.11.9"
  }
 },
 "nbformat": 4,
 "nbformat_minor": 5
}
